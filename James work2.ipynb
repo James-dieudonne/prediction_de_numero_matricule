{
 "cells": [
  {
   "cell_type": "code",
   "execution_count": 1,
   "id": "62ccc746",
   "metadata": {},
   "outputs": [],
   "source": [
    "import joblib\n",
    "from sklearn.linear_model import LinearRegression\n"
   ]
  },
  {
   "cell_type": "code",
   "execution_count": 3,
   "id": "3e4bc10f",
   "metadata": {},
   "outputs": [],
   "source": [
    "regresseur=LinearRegression()"
   ]
  },
  {
   "cell_type": "code",
   "execution_count": 4,
   "id": "a8f636dd",
   "metadata": {},
   "outputs": [],
   "source": [
    "test=[[13,2,20]]\n",
    "model=joblib.load('modelv5.pkl')\n"
   ]
  },
  {
   "cell_type": "code",
   "execution_count": 5,
   "id": "b1ab07b2",
   "metadata": {},
   "outputs": [
    {
     "data": {
      "text/plain": [
       "5560.13121857935"
      ]
     },
     "execution_count": 5,
     "metadata": {},
     "output_type": "execute_result"
    }
   ],
   "source": [
    "pred=model.predict(test)[0]\n",
    "pred"
   ]
  },
  {
   "cell_type": "code",
   "execution_count": null,
   "id": "a45fe4dd",
   "metadata": {},
   "outputs": [],
   "source": []
  }
 ],
 "metadata": {
  "kernelspec": {
   "display_name": "Python 3 (ipykernel)",
   "language": "python",
   "name": "python3"
  },
  "language_info": {
   "codemirror_mode": {
    "name": "ipython",
    "version": 3
   },
   "file_extension": ".py",
   "mimetype": "text/x-python",
   "name": "python",
   "nbconvert_exporter": "python",
   "pygments_lexer": "ipython3",
   "version": "3.9.7"
  }
 },
 "nbformat": 4,
 "nbformat_minor": 5
}
